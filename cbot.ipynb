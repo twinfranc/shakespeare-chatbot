{
 "cells": [
  {
   "cell_type": "markdown",
   "id": "e248d0b1-7575-4204-87c5-a5d2a015abab",
   "metadata": {},
   "source": [
    "## Importing necessary libraries"
   ]
  },
  {
   "cell_type": "code",
   "execution_count": 9,
   "id": "b5947e80-30be-4b90-a072-ef01feb7289d",
   "metadata": {},
   "outputs": [],
   "source": [
    "import nltk\n",
    "import string\n",
    "from sklearn.feature_extraction.text import TfidfVectorizer\n",
    "from sklearn.metrics.pairwise import cosine_similarity"
   ]
  },
  {
   "cell_type": "markdown",
   "id": "d8b4510e-764c-45c5-9210-1d091c80250f",
   "metadata": {},
   "source": [
    "## Downloading the NLTK resources"
   ]
  },
  {
   "cell_type": "code",
   "execution_count": 4,
   "id": "c1c29b41-3bde-48a0-9782-d796d3713267",
   "metadata": {},
   "outputs": [
    {
     "name": "stderr",
     "output_type": "stream",
     "text": [
      "[nltk_data] Downloading package punkt to\n",
      "[nltk_data]     C:\\Users\\user\\AppData\\Roaming\\nltk_data...\n",
      "[nltk_data]   Unzipping tokenizers\\punkt.zip.\n",
      "[nltk_data] Downloading package stopwords to\n",
      "[nltk_data]     C:\\Users\\user\\AppData\\Roaming\\nltk_data...\n",
      "[nltk_data]   Package stopwords is already up-to-date!\n"
     ]
    }
   ],
   "source": [
    "# Download NLTK resources\n",
    "nltk.download('punkt')\n",
    "nltk.download('stopwords')\n",
    "from nltk.tokenize import sent_tokenize\n",
    "from nltk.corpus import stopwords"
   ]
  },
  {
   "cell_type": "markdown",
   "id": "30969dd0-fa7e-43d4-8b8b-f1355d65997c",
   "metadata": {},
   "source": [
    "## Load and preprocessing shakespare text file"
   ]
  },
  {
   "cell_type": "code",
   "execution_count": 5,
   "id": "948347eb-553a-4f63-9ad2-c8c73585daf7",
   "metadata": {
    "jupyter": {
     "source_hidden": true
    }
   },
   "outputs": [],
   "source": [
    "# Load Shakespeare text file\n",
    "with open('shakespeare.txt', 'r', encoding='utf-8') as file:\n",
    "    text = file.read()"
   ]
  },
  {
   "cell_type": "code",
   "execution_count": 6,
   "id": "f0888302-6d20-4615-b8bd-e2ca4c55248a",
   "metadata": {
    "jupyter": {
     "source_hidden": true
    }
   },
   "outputs": [],
   "source": [
    "# Preprocess the text data\n",
    "def preprocess(text):\n",
    "    # Tokenize the text into sentences\n",
    "    sentences = sent_tokenize(text)\n",
    "    \n",
    "    # Remove punctuation and convert to lowercase\n",
    "    cleaned_sentences = []\n",
    "    for sentence in sentences:\n",
    "        sentence = sentence.lower()\n",
    "        sentence = ''.join([char for char in sentence if char not in string.punctuation])\n",
    "        cleaned_sentences.append(sentence)\n",
    "    \n",
    "    return cleaned_sentences"
   ]
  },
  {
   "cell_type": "code",
   "execution_count": 7,
   "id": "0149df97-7a84-4a2c-91dc-9adc63f41d31",
   "metadata": {
    "jupyter": {
     "source_hidden": true
    }
   },
   "outputs": [],
   "source": [
    "# Preprocessed text data\n",
    "processed_sentences = preprocess(text)\n",
    "\n",
    "# Define the function to calculate similarity\n",
    "def get_most_relevant_sentence(query, sentences):\n",
    "    # Combine the query with the sentences from the text\n",
    "    sentences.insert(0, query)  # Insert the query as the first sentence\n",
    "    vectorizer = TfidfVectorizer(stop_words=stopwords.words('english'))\n",
    "    tfidf_matrix = vectorizer.fit_transform(sentences)\n",
    "    cosine_sim = cosine_similarity(tfidf_matrix[0:1], tfidf_matrix[1:])  # Compare with all sentences\n",
    "    \n",
    "    # Get the index of the most relevant sentence\n",
    "    most_relevant_idx = cosine_sim.argmax()\n",
    "    return sentences[most_relevant_idx + 1]  # +1 because the query is at index 0"
   ]
  },
  {
   "cell_type": "code",
   "execution_count": 1,
   "id": "add69850-7ca4-441f-b281-7c2d2493844f",
   "metadata": {},
   "outputs": [],
   "source": [
    "import chat"
   ]
  },
  {
   "cell_type": "code",
   "execution_count": 2,
   "id": "139e770e-cd6d-4ff5-9d63-f7276d7805cf",
   "metadata": {},
   "outputs": [
    {
     "name": "stdout",
     "output_type": "stream",
     "text": [
      "<class 'function'>\n"
     ]
    }
   ],
   "source": [
    "print(type(chat.chatbot))"
   ]
  },
  {
   "cell_type": "code",
   "execution_count": 4,
   "id": "e9cbf3cc-341b-48a8-8733-00b3859befd6",
   "metadata": {},
   "outputs": [
    {
     "data": {
      "text/plain": [
       "['hi how are you']"
      ]
     },
     "execution_count": 4,
     "metadata": {},
     "output_type": "execute_result"
    }
   ],
   "source": [
    "chat.preprocess(\"Hi, how are you\")"
   ]
  },
  {
   "cell_type": "code",
   "execution_count": null,
   "id": "d882e244-4505-4861-a1db-51b64e8dc1c3",
   "metadata": {},
   "outputs": [],
   "source": []
  }
 ],
 "metadata": {
  "kernelspec": {
   "display_name": "Python 3 (ipykernel)",
   "language": "python",
   "name": "python3"
  },
  "language_info": {
   "codemirror_mode": {
    "name": "ipython",
    "version": 3
   },
   "file_extension": ".py",
   "mimetype": "text/x-python",
   "name": "python",
   "nbconvert_exporter": "python",
   "pygments_lexer": "ipython3",
   "version": "3.12.4"
  }
 },
 "nbformat": 4,
 "nbformat_minor": 5
}
